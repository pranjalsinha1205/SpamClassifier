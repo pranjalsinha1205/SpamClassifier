{
 "cells": [
  {
   "cell_type": "code",
   "execution_count": 1,
   "id": "b14b068d",
   "metadata": {},
   "outputs": [],
   "source": [
    "import nltk"
   ]
  },
  {
   "cell_type": "code",
   "execution_count": 2,
   "id": "f7bb0cda",
   "metadata": {},
   "outputs": [
    {
     "name": "stderr",
     "output_type": "stream",
     "text": [
      "[nltk_data] Downloading package stopwords to\n",
      "[nltk_data]     C:\\Users\\ASUS\\AppData\\Roaming\\nltk_data...\n",
      "[nltk_data]   Package stopwords is already up-to-date!\n",
      "[nltk_data] Downloading package wordnet to\n",
      "[nltk_data]     C:\\Users\\ASUS\\AppData\\Roaming\\nltk_data...\n",
      "[nltk_data]   Package wordnet is already up-to-date!\n"
     ]
    },
    {
     "data": {
      "text/plain": [
       "True"
      ]
     },
     "execution_count": 2,
     "metadata": {},
     "output_type": "execute_result"
    }
   ],
   "source": [
    "from nltk.tokenize import word_tokenize\n",
    "nltk.download('stopwords')\n",
    "nltk.download('wordnet')"
   ]
  },
  {
   "cell_type": "code",
   "execution_count": 3,
   "id": "8d5b2c31",
   "metadata": {},
   "outputs": [],
   "source": [
    "sentences = [\"The cat is on the mat\", \"Birds sing in the morning\", \n",
    "             \"He likes to read books\", \"She is wearing a blue dress\", \"We went to the park today\"]"
   ]
  },
  {
   "cell_type": "code",
   "execution_count": 4,
   "id": "8e58a215",
   "metadata": {},
   "outputs": [],
   "source": [
    "from nltk.corpus import stopwords"
   ]
  },
  {
   "cell_type": "code",
   "execution_count": 6,
   "id": "e18bb983",
   "metadata": {},
   "outputs": [],
   "source": [
    "try:\n",
    "    stop = set(stopwords.words('english'))\n",
    "except Exception as e:\n",
    "    print(e)"
   ]
  },
  {
   "cell_type": "code",
   "execution_count": 7,
   "id": "239b2b14",
   "metadata": {},
   "outputs": [
    {
     "name": "stdout",
     "output_type": "stream",
     "text": [
      "The cat mat\n",
      "Birds sing morning\n",
      "He likes read books\n",
      "She wearing blue dress\n",
      "We went park today\n"
     ]
    }
   ],
   "source": [
    "new_sent = []\n",
    "\n",
    "for i in sentences:\n",
    "    l  = word_tokenize(i)\n",
    "    l1 = [word for word in l if word not in stop]\n",
    "    new_sent.append(\" \".join(l1))\n",
    "    \n",
    "for i in new_sent:\n",
    "    print(i)"
   ]
  },
  {
   "cell_type": "markdown",
   "id": "c9b6e783",
   "metadata": {},
   "source": [
    "# BoW"
   ]
  },
  {
   "cell_type": "code",
   "execution_count": 8,
   "id": "1a3dfb99",
   "metadata": {},
   "outputs": [],
   "source": [
    "from sklearn.feature_extraction.text import CountVectorizer"
   ]
  },
  {
   "cell_type": "code",
   "execution_count": 9,
   "id": "7724a819",
   "metadata": {},
   "outputs": [
    {
     "name": "stderr",
     "output_type": "stream",
     "text": [
      "[nltk_data] Downloading package punkt to\n",
      "[nltk_data]     C:\\Users\\ASUS\\AppData\\Roaming\\nltk_data...\n",
      "[nltk_data]   Package punkt is already up-to-date!\n"
     ]
    },
    {
     "data": {
      "text/plain": [
       "True"
      ]
     },
     "execution_count": 9,
     "metadata": {},
     "output_type": "execute_result"
    }
   ],
   "source": [
    "nltk.download('punkt')"
   ]
  },
  {
   "cell_type": "code",
   "execution_count": 10,
   "id": "448ad975",
   "metadata": {},
   "outputs": [],
   "source": [
    "tokenized_sent = [\" \".join(word_tokenize(sent.lower())) for sent in sentences]"
   ]
  },
  {
   "cell_type": "code",
   "execution_count": 11,
   "id": "b5c2dcea",
   "metadata": {},
   "outputs": [],
   "source": [
    "vectorizer = CountVectorizer()\n",
    "bow_matrix = vectorizer.fit_transform(tokenized_sent)"
   ]
  },
  {
   "cell_type": "code",
   "execution_count": 12,
   "id": "ee9f4f3d",
   "metadata": {},
   "outputs": [
    {
     "name": "stdout",
     "output_type": "stream",
     "text": [
      "Vocabulary: ['birds' 'blue' 'books' 'cat' 'dress' 'he' 'in' 'is' 'likes' 'mat'\n",
      " 'morning' 'on' 'park' 'read' 'she' 'sing' 'the' 'to' 'today' 'we'\n",
      " 'wearing' 'went']\n"
     ]
    }
   ],
   "source": [
    "print(f\"Vocabulary: {vectorizer.get_feature_names_out()}\")"
   ]
  },
  {
   "cell_type": "code",
   "execution_count": 13,
   "id": "401ca9b9",
   "metadata": {},
   "outputs": [
    {
     "name": "stdout",
     "output_type": "stream",
     "text": [
      "BoW matrix:\n",
      " [[0 0 0 1 0 0 0 1 0 1 0 1 0 0 0 0 2 0 0 0 0 0]\n",
      " [1 0 0 0 0 0 1 0 0 0 1 0 0 0 0 1 1 0 0 0 0 0]\n",
      " [0 0 1 0 0 1 0 0 1 0 0 0 0 1 0 0 0 1 0 0 0 0]\n",
      " [0 1 0 0 1 0 0 1 0 0 0 0 0 0 1 0 0 0 0 0 1 0]\n",
      " [0 0 0 0 0 0 0 0 0 0 0 0 1 0 0 0 1 1 1 1 0 1]]\n"
     ]
    }
   ],
   "source": [
    "print(f\"BoW matrix:\\n {bow_matrix.toarray()}\")"
   ]
  },
  {
   "cell_type": "markdown",
   "id": "a1c9ed59",
   "metadata": {},
   "source": [
    "# TF_IDF"
   ]
  },
  {
   "cell_type": "code",
   "execution_count": 14,
   "id": "312294a9",
   "metadata": {},
   "outputs": [],
   "source": [
    "from sklearn.feature_extraction.text import TfidfVectorizer"
   ]
  },
  {
   "cell_type": "code",
   "execution_count": 16,
   "id": "8d7f1165",
   "metadata": {},
   "outputs": [],
   "source": [
    "vectorizer = TfidfVectorizer()\n",
    "tf_idf = vectorizer.fit_transform(tokenized_sent)"
   ]
  },
  {
   "cell_type": "code",
   "execution_count": 18,
   "id": "034b1015",
   "metadata": {},
   "outputs": [
    {
     "name": "stdout",
     "output_type": "stream",
     "text": [
      "Vocabulary: ['birds' 'blue' 'books' 'cat' 'dress' 'he' 'in' 'is' 'likes' 'mat'\n",
      " 'morning' 'on' 'park' 'read' 'she' 'sing' 'the' 'to' 'today' 'we'\n",
      " 'wearing' 'went']\n",
      "TF-IDF matrix:\n",
      "[[0.         0.         0.         0.42855071 0.         0.\n",
      "  0.         0.34575201 0.         0.42855071 0.         0.42855071\n",
      "  0.         0.         0.         0.         0.57401081 0.\n",
      "  0.         0.         0.         0.        ]\n",
      " [0.47412465 0.         0.         0.         0.         0.\n",
      "  0.47412465 0.         0.         0.         0.47412465 0.\n",
      "  0.         0.         0.         0.47412465 0.3175268  0.\n",
      "  0.         0.         0.         0.        ]\n",
      " [0.         0.         0.46369322 0.         0.         0.46369322\n",
      "  0.         0.         0.46369322 0.         0.         0.\n",
      "  0.         0.46369322 0.         0.         0.         0.37410477\n",
      "  0.         0.         0.         0.        ]\n",
      " [0.         0.46369322 0.         0.         0.46369322 0.\n",
      "  0.         0.37410477 0.         0.         0.         0.\n",
      "  0.         0.         0.46369322 0.         0.         0.\n",
      "  0.         0.         0.46369322 0.        ]\n",
      " [0.         0.         0.         0.         0.         0.\n",
      "  0.         0.         0.         0.         0.         0.\n",
      "  0.4428322  0.         0.         0.         0.29656989 0.35727423\n",
      "  0.4428322  0.4428322  0.         0.4428322 ]]\n"
     ]
    }
   ],
   "source": [
    "print(f\"Vocabulary: {vectorizer.get_feature_names_out()}\")\n",
    "print(f\"TF-IDF matrix:\\n{tf_idf.toarray()}\")"
   ]
  },
  {
   "cell_type": "code",
   "execution_count": null,
   "id": "013c6d56",
   "metadata": {},
   "outputs": [],
   "source": []
  }
 ],
 "metadata": {
  "kernelspec": {
   "display_name": "Python 3 (ipykernel)",
   "language": "python",
   "name": "python3"
  },
  "language_info": {
   "codemirror_mode": {
    "name": "ipython",
    "version": 3
   },
   "file_extension": ".py",
   "mimetype": "text/x-python",
   "name": "python",
   "nbconvert_exporter": "python",
   "pygments_lexer": "ipython3",
   "version": "3.9.12"
  }
 },
 "nbformat": 4,
 "nbformat_minor": 5
}
